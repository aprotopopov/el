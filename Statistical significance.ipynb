{
 "cells": [
  {
   "cell_type": "markdown",
   "metadata": {},
   "source": [
    "\n",
    "|                     | Целевая группа  | Контрольная группа |\n",
    "| -------------       |:-------------:  | :----------------: |\n",
    "| Размер сегмента     | 100 000         | 10 000             |\n",
    "| Кол-во покупателей  | 5 000           |    450             |"
   ]
  },
  {
   "cell_type": "markdown",
   "metadata": {},
   "source": [
    "Для того, чтобы определить является ли кампания значима, возможно применить критерий [хи-квадрат](http://machinelearning.ru/wiki/index.php?title=%D0%9A%D1%80%D0%B8%D1%82%D0%B5%D1%80%D0%B8%D0%B9_%D1%85%D0%B8-%D0%BA%D0%B2%D0%B0%D0%B4%D1%80%D0%B0%D1%82)."
   ]
  },
  {
   "cell_type": "code",
   "execution_count": 1,
   "metadata": {
    "collapsed": false
   },
   "outputs": [
    {
     "name": "stdout",
     "output_type": "stream",
     "text": [
      "4.3877226617229415\n"
     ]
    }
   ],
   "source": [
    "A = 5000\n",
    "B = 100000\n",
    "C = 450\n",
    "D = 10000\n",
    "x = [A, B, C, D]\n",
    "\n",
    "d = 1/(A+B+C+D)\n",
    "\n",
    "y = [0]*4\n",
    "y[0] = (A+B)*(A+C)*d\n",
    "y[1] = (A+B)*(B+D)*d\n",
    "y[2] = (C+D)*(A+C)*d\n",
    "y[3] = (C+D)*(B+D)*d\n",
    "\n",
    "total_list = [0]*4\n",
    "for i in range(4):\n",
    "    total_list[i] = (x[i]-y[i])**2/y[i]\n",
    "chi_square = sum(total_list)\n",
    "print(chi_square)"
   ]
  },
  {
   "cell_type": "markdown",
   "metadata": {},
   "source": [
    "Для нашей задачи имеем одну степень свободы. В соответствии с [квантилями распределения_хи-квадрат](https://ru.wikipedia.org/wiki/%D0%9A%D0%B2%D0%B0%D0%BD%D1%82%D0%B8%D0%BB%D0%B8_%D1%80%D0%B0%D1%81%D0%BF%D1%80%D0%B5%D0%B4%D0%B5%D0%BB%D0%B5%D0%BD%D0%B8%D1%8F_%D1%85%D0%B8-%D0%BA%D0%B2%D0%B0%D0%B4%D1%80%D0%B0%D1%82) получаем, что наше значение превышает квантиль 0.95, т.е. 3,8415. Таким образом получаем, что результат кампании значим, и его имеет смысл запускать."
   ]
  }
 ],
 "metadata": {
  "kernelspec": {
   "display_name": "Python 3",
   "language": "python",
   "name": "python3"
  },
  "language_info": {
   "codemirror_mode": {
    "name": "ipython",
    "version": 3
   },
   "file_extension": ".py",
   "mimetype": "text/x-python",
   "name": "python",
   "nbconvert_exporter": "python",
   "pygments_lexer": "ipython3",
   "version": "3.5.2"
  }
 },
 "nbformat": 4,
 "nbformat_minor": 0
}
