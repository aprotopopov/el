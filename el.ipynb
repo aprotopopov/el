{
 "cells": [
  {
   "cell_type": "markdown",
   "metadata": {
    "collapsed": true
   },
   "source": [
    " ## Анализ цен и ассортимента Эльдорадо для Яндекс.Маркета."
   ]
  },
  {
   "cell_type": "markdown",
   "metadata": {},
   "source": [
    "### 1. Получение данных, анализ содержимого xml файла."
   ]
  },
  {
   "cell_type": "markdown",
   "metadata": {},
   "source": [
    "В данном исследовании представлена выгрузка данных из xml файла, парсинг его с помощью `xml.etree.ElementTree`, создание `DataFrame` для категорий и товаров. Проанализированы различия цен в зависимости от региона для одних видов товаров, наиболее популярные вендоры. Сначала импортируем все библиотеки, необходимые для исследования:"
   ]
  },
  {
   "cell_type": "code",
   "execution_count": 1,
   "metadata": {
    "collapsed": true
   },
   "outputs": [],
   "source": [
    "%matplotlib inline\n",
    "import requests\n",
    "import pandas as pd\n",
    "import os\n",
    "import xml.etree.ElementTree as ET\n",
    "import matplotlib.pyplot as plt\n",
    "import seaborn as sns"
   ]
  },
  {
   "cell_type": "markdown",
   "metadata": {},
   "source": [
    "Загрузим данные в оперативную память, т.к. их не много (при желании можно сохранить на диск и затем пользовать уже сохранненый файл). "
   ]
  },
  {
   "cell_type": "code",
   "execution_count": 2,
   "metadata": {
    "collapsed": true
   },
   "outputs": [],
   "source": [
    "# Download and save XML file\n",
    "el_url = ''\n",
    "response = requests.get(el_url)\n",
    "\n",
    "save_file = False\n",
    "if save_file:\n",
    "    file_name = 'el_file.xml'\n",
    "    with open(file_name, 'w') as f:\n",
    "        f.write(response.text)"
   ]
  },
  {
   "cell_type": "markdown",
   "metadata": {},
   "source": [
    "Теперь у нас есть `xml` файл, распарсим его с помощью `xml.etree.ElementTree`."
   ]
  },
  {
   "cell_type": "code",
   "execution_count": 3,
   "metadata": {
    "collapsed": false
   },
   "outputs": [],
   "source": [
    "# parse XML file/string\n",
    "if os.path.exists('el_file.xml'):\n",
    "    etree = ET.parse('el_file.xml')\n",
    "    root = etree.getroot()\n",
    "else:\n",
    "    root = ET.fromstring(response.text)"
   ]
  },
  {
   "cell_type": "markdown",
   "metadata": {},
   "source": [
    "Посмотрим количество основных тагов."
   ]
  },
  {
   "cell_type": "code",
   "execution_count": 4,
   "metadata": {
    "collapsed": false
   },
   "outputs": [
    {
     "name": "stdout",
     "output_type": "stream",
     "text": [
      "[<Element 'shop' at 0x7f902869aa98>] 1\n"
     ]
    }
   ],
   "source": [
    "main_tags = root.getchildren()\n",
    "print(main_tags, len(main_tags))"
   ]
  },
  {
   "cell_type": "markdown",
   "metadata": {},
   "source": [
    "Посмотрим какие есть таги на уровень ниже"
   ]
  },
  {
   "cell_type": "code",
   "execution_count": 5,
   "metadata": {
    "collapsed": false
   },
   "outputs": [
    {
     "data": {
      "text/plain": [
       "[<Element 'name' at 0x7f902820b228>,\n",
       " <Element 'company' at 0x7f902820b278>,\n",
       " <Element 'url' at 0x7f902820b2c8>,\n",
       " <Element 'currencies' at 0x7f902820b318>,\n",
       " <Element 'categories' at 0x7f902820b3b8>,\n",
       " <Element 'offers' at 0x7f9023b66228>]"
      ]
     },
     "execution_count": 5,
     "metadata": {},
     "output_type": "execute_result"
    }
   ],
   "source": [
    "sub_tags = main_tags[0].getchildren()\n",
    "sub_tags"
   ]
  },
  {
   "cell_type": "markdown",
   "metadata": {},
   "source": [
    "И длину их подтагов:"
   ]
  },
  {
   "cell_type": "code",
   "execution_count": 6,
   "metadata": {
    "collapsed": false
   },
   "outputs": [
    {
     "data": {
      "text/plain": [
       "[0, 0, 0, 1, 798, 69321]"
      ]
     },
     "execution_count": 6,
     "metadata": {},
     "output_type": "execute_result"
    }
   ],
   "source": [
    "length_sub_tags = [len(child) for child in sub_tags]\n",
    "length_sub_tags"
   ]
  },
  {
   "cell_type": "markdown",
   "metadata": {},
   "source": [
    "Мы видим, что в основном, в наших данных присутствут категории товаров и сами товары. "
   ]
  },
  {
   "cell_type": "code",
   "execution_count": 7,
   "metadata": {
    "collapsed": true
   },
   "outputs": [],
   "source": [
    "categories = sub_tags[-2]\n",
    "offers = sub_tags[-1]"
   ]
  },
  {
   "cell_type": "markdown",
   "metadata": {},
   "source": [
    "Посмотрим содержание для первого элемента `categories`:"
   ]
  },
  {
   "cell_type": "code",
   "execution_count": 8,
   "metadata": {
    "collapsed": false
   },
   "outputs": [
    {
     "data": {
      "text/plain": [
       "(<Element 'category' at 0x7f902820b408>,\n",
       " [('id', '12018'), ('parentId', '12017')],\n",
       " 'category',\n",
       " 'Дрели',\n",
       " 0)"
      ]
     },
     "execution_count": 8,
     "metadata": {},
     "output_type": "execute_result"
    }
   ],
   "source": [
    "categories[0], categories[0].items(), categories[0].tag, categories[0].text, len(categories[0].getchildren())"
   ]
  },
  {
   "cell_type": "markdown",
   "metadata": {},
   "source": [
    "и для `offers`:"
   ]
  },
  {
   "cell_type": "code",
   "execution_count": 9,
   "metadata": {
    "collapsed": false
   },
   "outputs": [
    {
     "data": {
      "text/plain": [
       "(<Element 'offer' at 0x7f9023b66278>,\n",
       " [('bid', '0'),\n",
       "  ('type', 'vendor.model'),\n",
       "  ('id', '41000071_Moskva'),\n",
       "  ('available', 'true')],\n",
       " 'offer',\n",
       " '\\n',\n",
       " 15)"
      ]
     },
     "execution_count": 9,
     "metadata": {},
     "output_type": "execute_result"
    }
   ],
   "source": [
    "offers[0], offers[0].items(), offers[0].tag, offers[0].text, len(offers[0].getchildren())"
   ]
  },
  {
   "cell_type": "markdown",
   "metadata": {},
   "source": [
    "Получаем, что для первого элемента `offers` мы имеем 15 дочерних тегов. Посмотрим какие там элементы:"
   ]
  },
  {
   "cell_type": "code",
   "execution_count": 10,
   "metadata": {
    "collapsed": false
   },
   "outputs": [
    {
     "data": {
      "text/plain": [
       "[<Element 'url' at 0x7f9023b662c8>,\n",
       " <Element 'price' at 0x7f9023b66318>,\n",
       " <Element 'currencyId' at 0x7f9023b66368>,\n",
       " <Element 'categoryId' at 0x7f9023b663b8>,\n",
       " <Element 'picture' at 0x7f9023b66408>,\n",
       " <Element 'store' at 0x7f9023b66458>,\n",
       " <Element 'pickup' at 0x7f9023b664a8>,\n",
       " <Element 'delivery' at 0x7f9023b664f8>,\n",
       " <Element 'local_delivery_cost' at 0x7f9023b66548>,\n",
       " <Element 'typePrefix' at 0x7f9023b66598>,\n",
       " <Element 'vendor' at 0x7f9023b665e8>,\n",
       " <Element 'model' at 0x7f9023b66638>,\n",
       " <Element 'description' at 0x7f9023b66688>,\n",
       " <Element 'sales_notes' at 0x7f9023b666d8>,\n",
       " <Element 'manufacturer_warranty' at 0x7f9023b66728>]"
      ]
     },
     "execution_count": 10,
     "metadata": {},
     "output_type": "execute_result"
    }
   ],
   "source": [
    "offer_child = offers[0].getchildren()\n",
    "offer_child"
   ]
  },
  {
   "cell_type": "markdown",
   "metadata": {},
   "source": [
    "Проверим, что мы не упускаем никаких данных, в `categories` нет никаких подтегов (длина детей для каждой категории равна нулю). Для этого сравним длину детей для каждой категории с нулем, и затем возьмем `all`, чтобы проверить что для каждого значения это верно:"
   ]
  },
  {
   "cell_type": "code",
   "execution_count": 11,
   "metadata": {
    "collapsed": false
   },
   "outputs": [
    {
     "data": {
      "text/plain": [
       "True"
      ]
     },
     "execution_count": 11,
     "metadata": {},
     "output_type": "execute_result"
    }
   ],
   "source": [
    "all(len(category.getchildren())==0 for category in categories)\n"
   ]
  },
  {
   "cell_type": "markdown",
   "metadata": {},
   "source": [
    "Аналогично для `offers`, длина детей предполагается равной 15 как и для первого элемента:"
   ]
  },
  {
   "cell_type": "code",
   "execution_count": 12,
   "metadata": {
    "collapsed": false
   },
   "outputs": [
    {
     "data": {
      "text/plain": [
       "True"
      ]
     },
     "execution_count": 12,
     "metadata": {},
     "output_type": "execute_result"
    }
   ],
   "source": [
    "all(len(offer.getchildren())==15 for offer in offers)"
   ]
  },
  {
   "cell_type": "markdown",
   "metadata": {},
   "source": [
    "Также посмотрим, что для каждого `child` тега `offers` у нас нет дочерних тегов, т.е. теги содержат только текст (и возможно аттрибуты):"
   ]
  },
  {
   "cell_type": "code",
   "execution_count": 13,
   "metadata": {
    "collapsed": false
   },
   "outputs": [
    {
     "data": {
      "text/plain": [
       "True"
      ]
     },
     "execution_count": 13,
     "metadata": {},
     "output_type": "execute_result"
    }
   ],
   "source": [
    "all([all(len(child) == 0 for child in offer.getchildren()) for offer in offers])"
   ]
  },
  {
   "cell_type": "markdown",
   "metadata": {},
   "source": [
    "и также ни одного аттрибута:"
   ]
  },
  {
   "cell_type": "code",
   "execution_count": 14,
   "metadata": {
    "collapsed": false
   },
   "outputs": [
    {
     "data": {
      "text/plain": [
       "True"
      ]
     },
     "execution_count": 14,
     "metadata": {},
     "output_type": "execute_result"
    }
   ],
   "source": [
    "all([all(len(child.items()) == 0 for child in offer.getchildren()) for offer in offers])"
   ]
  },
  {
   "cell_type": "markdown",
   "metadata": {},
   "source": [
    "Теперь, когда мы убедились что представляем какие данные имеем создадим `DataFrame` для категорий и товаров."
   ]
  },
  {
   "cell_type": "markdown",
   "metadata": {},
   "source": [
    "### 2. Создание `DataFrame` для категорий и товаров и анализ содержимого."
   ]
  },
  {
   "cell_type": "markdown",
   "metadata": {},
   "source": [
    "Для категорий, как было представлено выше, у нас два аттрибута для каждого тега. Также в содержании тега есть название категории, поэтому его тоже имеет смысл включить в `DataFrame`. В итоге получаем 3 столбца. Создадим `DataFrame` для категорий с помощью `list comprehension`:"
   ]
  },
  {
   "cell_type": "code",
   "execution_count": 15,
   "metadata": {
    "collapsed": false
   },
   "outputs": [
    {
     "data": {
      "text/html": [
       "<div>\n",
       "<table border=\"1\" class=\"dataframe\">\n",
       "  <thead>\n",
       "    <tr style=\"text-align: right;\">\n",
       "      <th></th>\n",
       "      <th>category</th>\n",
       "      <th>id</th>\n",
       "      <th>parentId</th>\n",
       "    </tr>\n",
       "  </thead>\n",
       "  <tbody>\n",
       "    <tr>\n",
       "      <th>0</th>\n",
       "      <td>Дрели</td>\n",
       "      <td>12018</td>\n",
       "      <td>12017</td>\n",
       "    </tr>\n",
       "    <tr>\n",
       "      <th>1</th>\n",
       "      <td>LED телевизоры</td>\n",
       "      <td>2577</td>\n",
       "      <td>2000</td>\n",
       "    </tr>\n",
       "    <tr>\n",
       "      <th>2</th>\n",
       "      <td>Аэрогрили</td>\n",
       "      <td>5578</td>\n",
       "      <td>5057</td>\n",
       "    </tr>\n",
       "    <tr>\n",
       "      <th>3</th>\n",
       "      <td>Перфораторы</td>\n",
       "      <td>12012</td>\n",
       "      <td>12017</td>\n",
       "    </tr>\n",
       "    <tr>\n",
       "      <th>4</th>\n",
       "      <td>3D-очки</td>\n",
       "      <td>2598</td>\n",
       "      <td>2000</td>\n",
       "    </tr>\n",
       "  </tbody>\n",
       "</table>\n",
       "</div>"
      ],
      "text/plain": [
       "         category     id parentId\n",
       "0           Дрели  12018    12017\n",
       "1  LED телевизоры   2577     2000\n",
       "2       Аэрогрили   5578     5057\n",
       "3     Перфораторы  12012    12017\n",
       "4         3D-очки   2598     2000"
      ]
     },
     "execution_count": 15,
     "metadata": {},
     "output_type": "execute_result"
    }
   ],
   "source": [
    "# DataFrame for categories\n",
    "cat_items = [dict(category.items() + [(category.tag, category.text)]) for category in categories]\n",
    "df_cats = pd.DataFrame(cat_items)\n",
    "df_cats.head()"
   ]
  },
  {
   "cell_type": "markdown",
   "metadata": {},
   "source": [
    "Для товаров у нас есть 4 аттрибута. Дочерних тегов имеется 15 штук, которые содержат только текст. В итоге получаем 19 столцов. Здесь воспользуемся `dict`:"
   ]
  },
  {
   "cell_type": "code",
   "execution_count": 16,
   "metadata": {
    "collapsed": false,
    "scrolled": true
   },
   "outputs": [
    {
     "data": {
      "text/html": [
       "<div>\n",
       "<table border=\"1\" class=\"dataframe\">\n",
       "  <thead>\n",
       "    <tr style=\"text-align: right;\">\n",
       "      <th></th>\n",
       "      <th>available</th>\n",
       "      <th>bid</th>\n",
       "      <th>categoryId</th>\n",
       "      <th>currencyId</th>\n",
       "      <th>delivery</th>\n",
       "      <th>description</th>\n",
       "      <th>id</th>\n",
       "      <th>local_delivery_cost</th>\n",
       "      <th>manufacturer_warranty</th>\n",
       "      <th>model</th>\n",
       "      <th>pickup</th>\n",
       "      <th>picture</th>\n",
       "      <th>price</th>\n",
       "      <th>sales_notes</th>\n",
       "      <th>store</th>\n",
       "      <th>type</th>\n",
       "      <th>typePrefix</th>\n",
       "      <th>url</th>\n",
       "      <th>vendor</th>\n",
       "    </tr>\n",
       "  </thead>\n",
       "  <tbody>\n",
       "    <tr>\n",
       "      <th>0</th>\n",
       "      <td>true</td>\n",
       "      <td>0</td>\n",
       "      <td>1029</td>\n",
       "      <td>RUR</td>\n",
       "      <td>true</td>\n",
       "      <td>Цвет: Оранжевый; Тип: Набор; Состав набора: Си...</td>\n",
       "      <td>41000071_Moskva</td>\n",
       "      <td>460.00</td>\n",
       "      <td>true</td>\n",
       "      <td>MAK 2.10</td>\n",
       "      <td>true</td>\n",
       "      <td>http://www.eldorado.ru/photos/41/new_41000071_...</td>\n",
       "      <td>840.00</td>\n",
       "      <td>None</td>\n",
       "      <td>true</td>\n",
       "      <td>vendor.model</td>\n",
       "      <td>Установочный Набор</td>\n",
       "      <td>http://www.eldorado.ru/cat/detail/41000071/</td>\n",
       "      <td>MYSTERY</td>\n",
       "    </tr>\n",
       "    <tr>\n",
       "      <th>1</th>\n",
       "      <td>true</td>\n",
       "      <td>0</td>\n",
       "      <td>1029</td>\n",
       "      <td>RUR</td>\n",
       "      <td>true</td>\n",
       "      <td>Цвет: Оранжевый; Тип: Набор; Состав набора: Си...</td>\n",
       "      <td>41000072_Moskva</td>\n",
       "      <td>460.00</td>\n",
       "      <td>true</td>\n",
       "      <td>MAK 4.08</td>\n",
       "      <td>true</td>\n",
       "      <td>http://www.eldorado.ru/photos/41/new_41000072_...</td>\n",
       "      <td>1999.00</td>\n",
       "      <td>None</td>\n",
       "      <td>true</td>\n",
       "      <td>vendor.model</td>\n",
       "      <td>Установочный Набор</td>\n",
       "      <td>http://www.eldorado.ru/cat/detail/41000072/</td>\n",
       "      <td>MYSTERY</td>\n",
       "    </tr>\n",
       "    <tr>\n",
       "      <th>2</th>\n",
       "      <td>true</td>\n",
       "      <td>0</td>\n",
       "      <td>1029</td>\n",
       "      <td>RUR</td>\n",
       "      <td>true</td>\n",
       "      <td>Цвет: Оранжевый; Состав набора: Управляющий ка...</td>\n",
       "      <td>41000130_Moskva</td>\n",
       "      <td>460.00</td>\n",
       "      <td>true</td>\n",
       "      <td>MPRO 5.2</td>\n",
       "      <td>true</td>\n",
       "      <td>http://www.eldorado.ru/photos/41/new_41000130_...</td>\n",
       "      <td>380.00</td>\n",
       "      <td>None</td>\n",
       "      <td>true</td>\n",
       "      <td>vendor.model</td>\n",
       "      <td>Rca Кабель</td>\n",
       "      <td>http://www.eldorado.ru/cat/detail/41000130/</td>\n",
       "      <td>MYSTERY</td>\n",
       "    </tr>\n",
       "    <tr>\n",
       "      <th>3</th>\n",
       "      <td>true</td>\n",
       "      <td>0</td>\n",
       "      <td>1122</td>\n",
       "      <td>RUR</td>\n",
       "      <td>true</td>\n",
       "      <td>Емкость: 0.5; Назначение: конденсатор; Кол-во ...</td>\n",
       "      <td>41000146_Moskva</td>\n",
       "      <td>460.00</td>\n",
       "      <td>true</td>\n",
       "      <td>MCP 05</td>\n",
       "      <td>true</td>\n",
       "      <td>http://www.eldorado.ru/photos/41/new_41000146_...</td>\n",
       "      <td>1699.00</td>\n",
       "      <td>None</td>\n",
       "      <td>true</td>\n",
       "      <td>vendor.model</td>\n",
       "      <td>Конденсатор</td>\n",
       "      <td>http://www.eldorado.ru/cat/detail/41000146/</td>\n",
       "      <td>MYSTERY</td>\n",
       "    </tr>\n",
       "    <tr>\n",
       "      <th>4</th>\n",
       "      <td>true</td>\n",
       "      <td>0</td>\n",
       "      <td>1122</td>\n",
       "      <td>RUR</td>\n",
       "      <td>true</td>\n",
       "      <td>Цифровой вольтметр: есть; Емкость: 1; Назначен...</td>\n",
       "      <td>41000147_Moskva</td>\n",
       "      <td>460.00</td>\n",
       "      <td>true</td>\n",
       "      <td>MCP 10</td>\n",
       "      <td>true</td>\n",
       "      <td>http://www.eldorado.ru/photos/41/new_41000147_...</td>\n",
       "      <td>1999.00</td>\n",
       "      <td>None</td>\n",
       "      <td>true</td>\n",
       "      <td>vendor.model</td>\n",
       "      <td>Конденсатор</td>\n",
       "      <td>http://www.eldorado.ru/cat/detail/41000147/</td>\n",
       "      <td>MYSTERY</td>\n",
       "    </tr>\n",
       "  </tbody>\n",
       "</table>\n",
       "</div>"
      ],
      "text/plain": [
       "  available bid categoryId currencyId delivery  \\\n",
       "0      true   0       1029        RUR     true   \n",
       "1      true   0       1029        RUR     true   \n",
       "2      true   0       1029        RUR     true   \n",
       "3      true   0       1122        RUR     true   \n",
       "4      true   0       1122        RUR     true   \n",
       "\n",
       "                                         description               id  \\\n",
       "0  Цвет: Оранжевый; Тип: Набор; Состав набора: Си...  41000071_Moskva   \n",
       "1  Цвет: Оранжевый; Тип: Набор; Состав набора: Си...  41000072_Moskva   \n",
       "2  Цвет: Оранжевый; Состав набора: Управляющий ка...  41000130_Moskva   \n",
       "3  Емкость: 0.5; Назначение: конденсатор; Кол-во ...  41000146_Moskva   \n",
       "4  Цифровой вольтметр: есть; Емкость: 1; Назначен...  41000147_Moskva   \n",
       "\n",
       "  local_delivery_cost manufacturer_warranty     model pickup  \\\n",
       "0              460.00                  true  MAK 2.10   true   \n",
       "1              460.00                  true  MAK 4.08   true   \n",
       "2              460.00                  true  MPRO 5.2   true   \n",
       "3              460.00                  true    MCP 05   true   \n",
       "4              460.00                  true    MCP 10   true   \n",
       "\n",
       "                                             picture    price sales_notes  \\\n",
       "0  http://www.eldorado.ru/photos/41/new_41000071_...   840.00        None   \n",
       "1  http://www.eldorado.ru/photos/41/new_41000072_...  1999.00        None   \n",
       "2  http://www.eldorado.ru/photos/41/new_41000130_...   380.00        None   \n",
       "3  http://www.eldorado.ru/photos/41/new_41000146_...  1699.00        None   \n",
       "4  http://www.eldorado.ru/photos/41/new_41000147_...  1999.00        None   \n",
       "\n",
       "  store          type          typePrefix  \\\n",
       "0  true  vendor.model  Установочный Набор   \n",
       "1  true  vendor.model  Установочный Набор   \n",
       "2  true  vendor.model          Rca Кабель   \n",
       "3  true  vendor.model         Конденсатор   \n",
       "4  true  vendor.model         Конденсатор   \n",
       "\n",
       "                                           url   vendor  \n",
       "0  http://www.eldorado.ru/cat/detail/41000071/  MYSTERY  \n",
       "1  http://www.eldorado.ru/cat/detail/41000072/  MYSTERY  \n",
       "2  http://www.eldorado.ru/cat/detail/41000130/  MYSTERY  \n",
       "3  http://www.eldorado.ru/cat/detail/41000146/  MYSTERY  \n",
       "4  http://www.eldorado.ru/cat/detail/41000147/  MYSTERY  "
      ]
     },
     "execution_count": 16,
     "metadata": {},
     "output_type": "execute_result"
    }
   ],
   "source": [
    "# DataFrame for offers\n",
    "offer_items = []\n",
    "for offer in offers:\n",
    "    row_dict = {}\n",
    "    row_dict.update(dict(offer.items()))\n",
    "    row_dict.update({(child.tag, child.text) for child in offer.getchildren()})\n",
    "    offer_items.append(row_dict)\n",
    "\n",
    "df_offers = pd.DataFrame(offer_items)\n",
    "df_offers.head()"
   ]
  },
  {
   "cell_type": "markdown",
   "metadata": {},
   "source": [
    "Посмотрим некое `summary` о полученных `DataFrames`, путем получения типов столбцов, количеству уникальных значений и количеству пропусков. Для этого объявим функцию и применим её для каждого `DataFrame`."
   ]
  },
  {
   "cell_type": "code",
   "execution_count": 17,
   "metadata": {
    "collapsed": true
   },
   "outputs": [],
   "source": [
    "def get_overview_counts(df):\n",
    "    null_summary = df.isnull().sum()\n",
    "    col_counts = df.apply(lambda x: x.nunique())\n",
    "    overview_counts = pd.concat([df.dtypes, col_counts, null_summary], axis=1)\n",
    "    overview_counts.columns = ['type', 'unique', 'isNaN']\n",
    "    return overview_counts"
   ]
  },
  {
   "cell_type": "code",
   "execution_count": 18,
   "metadata": {
    "collapsed": false
   },
   "outputs": [
    {
     "data": {
      "text/html": [
       "<div>\n",
       "<table border=\"1\" class=\"dataframe\">\n",
       "  <thead>\n",
       "    <tr style=\"text-align: right;\">\n",
       "      <th></th>\n",
       "      <th>type</th>\n",
       "      <th>unique</th>\n",
       "      <th>isNaN</th>\n",
       "    </tr>\n",
       "  </thead>\n",
       "  <tbody>\n",
       "    <tr>\n",
       "      <th>category</th>\n",
       "      <td>object</td>\n",
       "      <td>729</td>\n",
       "      <td>0</td>\n",
       "    </tr>\n",
       "    <tr>\n",
       "      <th>id</th>\n",
       "      <td>object</td>\n",
       "      <td>798</td>\n",
       "      <td>0</td>\n",
       "    </tr>\n",
       "    <tr>\n",
       "      <th>parentId</th>\n",
       "      <td>object</td>\n",
       "      <td>160</td>\n",
       "      <td>0</td>\n",
       "    </tr>\n",
       "  </tbody>\n",
       "</table>\n",
       "</div>"
      ],
      "text/plain": [
       "            type  unique  isNaN\n",
       "category  object     729      0\n",
       "id        object     798      0\n",
       "parentId  object     160      0"
      ]
     },
     "execution_count": 18,
     "metadata": {},
     "output_type": "execute_result"
    }
   ],
   "source": [
    "overview_cats = get_overview_counts(df_cats)\n",
    "overview_cats"
   ]
  },
  {
   "cell_type": "code",
   "execution_count": 19,
   "metadata": {
    "collapsed": false,
    "scrolled": true
   },
   "outputs": [
    {
     "data": {
      "text/html": [
       "<div>\n",
       "<table border=\"1\" class=\"dataframe\">\n",
       "  <thead>\n",
       "    <tr style=\"text-align: right;\">\n",
       "      <th></th>\n",
       "      <th>type</th>\n",
       "      <th>unique</th>\n",
       "      <th>isNaN</th>\n",
       "    </tr>\n",
       "  </thead>\n",
       "  <tbody>\n",
       "    <tr>\n",
       "      <th>available</th>\n",
       "      <td>object</td>\n",
       "      <td>2</td>\n",
       "      <td>0</td>\n",
       "    </tr>\n",
       "    <tr>\n",
       "      <th>bid</th>\n",
       "      <td>object</td>\n",
       "      <td>1</td>\n",
       "      <td>0</td>\n",
       "    </tr>\n",
       "    <tr>\n",
       "      <th>categoryId</th>\n",
       "      <td>object</td>\n",
       "      <td>582</td>\n",
       "      <td>3</td>\n",
       "    </tr>\n",
       "    <tr>\n",
       "      <th>currencyId</th>\n",
       "      <td>object</td>\n",
       "      <td>1</td>\n",
       "      <td>0</td>\n",
       "    </tr>\n",
       "    <tr>\n",
       "      <th>delivery</th>\n",
       "      <td>object</td>\n",
       "      <td>1</td>\n",
       "      <td>0</td>\n",
       "    </tr>\n",
       "    <tr>\n",
       "      <th>description</th>\n",
       "      <td>object</td>\n",
       "      <td>24193</td>\n",
       "      <td>171</td>\n",
       "    </tr>\n",
       "    <tr>\n",
       "      <th>id</th>\n",
       "      <td>object</td>\n",
       "      <td>69321</td>\n",
       "      <td>0</td>\n",
       "    </tr>\n",
       "    <tr>\n",
       "      <th>local_delivery_cost</th>\n",
       "      <td>object</td>\n",
       "      <td>6</td>\n",
       "      <td>0</td>\n",
       "    </tr>\n",
       "    <tr>\n",
       "      <th>manufacturer_warranty</th>\n",
       "      <td>object</td>\n",
       "      <td>1</td>\n",
       "      <td>0</td>\n",
       "    </tr>\n",
       "    <tr>\n",
       "      <th>model</th>\n",
       "      <td>object</td>\n",
       "      <td>26400</td>\n",
       "      <td>0</td>\n",
       "    </tr>\n",
       "    <tr>\n",
       "      <th>pickup</th>\n",
       "      <td>object</td>\n",
       "      <td>2</td>\n",
       "      <td>0</td>\n",
       "    </tr>\n",
       "    <tr>\n",
       "      <th>picture</th>\n",
       "      <td>object</td>\n",
       "      <td>26659</td>\n",
       "      <td>210</td>\n",
       "    </tr>\n",
       "    <tr>\n",
       "      <th>price</th>\n",
       "      <td>object</td>\n",
       "      <td>5171</td>\n",
       "      <td>0</td>\n",
       "    </tr>\n",
       "    <tr>\n",
       "      <th>sales_notes</th>\n",
       "      <td>object</td>\n",
       "      <td>2</td>\n",
       "      <td>69214</td>\n",
       "    </tr>\n",
       "    <tr>\n",
       "      <th>store</th>\n",
       "      <td>object</td>\n",
       "      <td>2</td>\n",
       "      <td>0</td>\n",
       "    </tr>\n",
       "    <tr>\n",
       "      <th>type</th>\n",
       "      <td>object</td>\n",
       "      <td>1</td>\n",
       "      <td>0</td>\n",
       "    </tr>\n",
       "    <tr>\n",
       "      <th>typePrefix</th>\n",
       "      <td>object</td>\n",
       "      <td>4266</td>\n",
       "      <td>0</td>\n",
       "    </tr>\n",
       "    <tr>\n",
       "      <th>url</th>\n",
       "      <td>object</td>\n",
       "      <td>26753</td>\n",
       "      <td>0</td>\n",
       "    </tr>\n",
       "    <tr>\n",
       "      <th>vendor</th>\n",
       "      <td>object</td>\n",
       "      <td>1153</td>\n",
       "      <td>3</td>\n",
       "    </tr>\n",
       "  </tbody>\n",
       "</table>\n",
       "</div>"
      ],
      "text/plain": [
       "                         type  unique  isNaN\n",
       "available              object       2      0\n",
       "bid                    object       1      0\n",
       "categoryId             object     582      3\n",
       "currencyId             object       1      0\n",
       "delivery               object       1      0\n",
       "description            object   24193    171\n",
       "id                     object   69321      0\n",
       "local_delivery_cost    object       6      0\n",
       "manufacturer_warranty  object       1      0\n",
       "model                  object   26400      0\n",
       "pickup                 object       2      0\n",
       "picture                object   26659    210\n",
       "price                  object    5171      0\n",
       "sales_notes            object       2  69214\n",
       "store                  object       2      0\n",
       "type                   object       1      0\n",
       "typePrefix             object    4266      0\n",
       "url                    object   26753      0\n",
       "vendor                 object    1153      3"
      ]
     },
     "execution_count": 19,
     "metadata": {},
     "output_type": "execute_result"
    }
   ],
   "source": [
    "overview_offers = get_overview_counts(df_offers)\n",
    "overview_offers"
   ]
  },
  {
   "cell_type": "markdown",
   "metadata": {},
   "source": [
    "Из `overview` по `df_offers` мы видимо, что для некоторых колонок мы имеем одно уникальное значение, также в некоторых строках мы имеем пропуски, особенно много в `sales_notes`. Выкинем колонки с одним уникальным значением, т.к. они не имеют смысла для дальнейшего анализа. Также посмотрим их содержимое перед выбросом:"
   ]
  },
  {
   "cell_type": "code",
   "execution_count": 20,
   "metadata": {
    "collapsed": false
   },
   "outputs": [
    {
     "data": {
      "text/html": [
       "<div>\n",
       "<table border=\"1\" class=\"dataframe\">\n",
       "  <thead>\n",
       "    <tr style=\"text-align: right;\">\n",
       "      <th></th>\n",
       "      <th>bid</th>\n",
       "      <th>currencyId</th>\n",
       "      <th>delivery</th>\n",
       "      <th>manufacturer_warranty</th>\n",
       "      <th>type</th>\n",
       "    </tr>\n",
       "  </thead>\n",
       "  <tbody>\n",
       "    <tr>\n",
       "      <th>0</th>\n",
       "      <td>0</td>\n",
       "      <td>RUR</td>\n",
       "      <td>true</td>\n",
       "      <td>true</td>\n",
       "      <td>vendor.model</td>\n",
       "    </tr>\n",
       "    <tr>\n",
       "      <th>1</th>\n",
       "      <td>0</td>\n",
       "      <td>RUR</td>\n",
       "      <td>true</td>\n",
       "      <td>true</td>\n",
       "      <td>vendor.model</td>\n",
       "    </tr>\n",
       "    <tr>\n",
       "      <th>2</th>\n",
       "      <td>0</td>\n",
       "      <td>RUR</td>\n",
       "      <td>true</td>\n",
       "      <td>true</td>\n",
       "      <td>vendor.model</td>\n",
       "    </tr>\n",
       "    <tr>\n",
       "      <th>3</th>\n",
       "      <td>0</td>\n",
       "      <td>RUR</td>\n",
       "      <td>true</td>\n",
       "      <td>true</td>\n",
       "      <td>vendor.model</td>\n",
       "    </tr>\n",
       "    <tr>\n",
       "      <th>4</th>\n",
       "      <td>0</td>\n",
       "      <td>RUR</td>\n",
       "      <td>true</td>\n",
       "      <td>true</td>\n",
       "      <td>vendor.model</td>\n",
       "    </tr>\n",
       "  </tbody>\n",
       "</table>\n",
       "</div>"
      ],
      "text/plain": [
       "  bid currencyId delivery manufacturer_warranty          type\n",
       "0   0        RUR     true                  true  vendor.model\n",
       "1   0        RUR     true                  true  vendor.model\n",
       "2   0        RUR     true                  true  vendor.model\n",
       "3   0        RUR     true                  true  vendor.model\n",
       "4   0        RUR     true                  true  vendor.model"
      ]
     },
     "execution_count": 20,
     "metadata": {},
     "output_type": "execute_result"
    }
   ],
   "source": [
    "# We could drop columns with 1 unique values:\n",
    "mask_unique_one = overview_offers.unique == 1\n",
    "cols_to_drop = mask_unique_one[mask_unique_one].index\n",
    "\n",
    "# let's see on that cols before drop\n",
    "df_offers[cols_to_drop].head()"
   ]
  },
  {
   "cell_type": "code",
   "execution_count": 21,
   "metadata": {
    "collapsed": false
   },
   "outputs": [],
   "source": [
    "# now drop that columns\n",
    "df_offers = df_offers.drop(cols_to_drop, axis=1)"
   ]
  },
  {
   "cell_type": "markdown",
   "metadata": {},
   "source": [
    "Длина всего `DataFrame` для `offers` 69321, а пропущенных значение для `sales_notes` у нас 69214, т.е. всего чуть большее 100 значений. Посмотрим эти значения и их распределение:"
   ]
  },
  {
   "cell_type": "code",
   "execution_count": 22,
   "metadata": {
    "collapsed": false
   },
   "outputs": [
    {
     "data": {
      "text/plain": [
       "Visa/MasterCard, б/н расчет    101\n",
       "доступно по предзаказу           6\n",
       "Name: sales_notes, dtype: int64"
      ]
     },
     "execution_count": 22,
     "metadata": {},
     "output_type": "execute_result"
    }
   ],
   "source": [
    "df_offers.sales_notes[df_offers.sales_notes.notnull()].value_counts()"
   ]
  },
  {
   "cell_type": "markdown",
   "metadata": {},
   "source": [
    "Т.к. нашей задачей является распределение цен по различным регионам создадим столбец `city`, показывающим принадлежность какому-либо из регионов. Его можно выделить из столбца `id`. Сначала посмотрим, как он там выглядит."
   ]
  },
  {
   "cell_type": "code",
   "execution_count": 23,
   "metadata": {
    "collapsed": false
   },
   "outputs": [
    {
     "data": {
      "text/plain": [
       "0    41000071_Moskva\n",
       "1    41000072_Moskva\n",
       "2    41000130_Moskva\n",
       "3    41000146_Moskva\n",
       "4    41000147_Moskva\n",
       "Name: id, dtype: object"
      ]
     },
     "execution_count": 23,
     "metadata": {},
     "output_type": "execute_result"
    }
   ],
   "source": [
    "df_offers['id'].head()"
   ]
  },
  {
   "cell_type": "markdown",
   "metadata": {},
   "source": [
    "Получаем, что у нас есть числовой `id` для товара, затем через `_` идет название региона. Если мы выбросим числа до `_` и символ `_` мы получим название региона/города. Это можно сделать с помощью `regex` и метода `DataFrame` `str.replace`. Затем посмотрим сколько товаров к какому региону относятся из нашей выборки:"
   ]
  },
  {
   "cell_type": "code",
   "execution_count": 24,
   "metadata": {
    "collapsed": false
   },
   "outputs": [
    {
     "data": {
      "text/plain": [
       "Moskva                                24256\n",
       "Novosibirskaya_oblast__Novosibirsk    23304\n",
       "Sankt-Peterburg                       21761\n",
       "Name: city, dtype: int64"
      ]
     },
     "execution_count": 24,
     "metadata": {},
     "output_type": "execute_result"
    }
   ],
   "source": [
    "# Let's get items for 3 different city by dropping digits in front of id\n",
    "df_offers['city'] = df_offers['id'].str.replace('\\d+_', '')\n",
    "\n",
    "# Counts for cities\n",
    "df_offers['city'].value_counts()"
   ]
  },
  {
   "cell_type": "markdown",
   "metadata": {},
   "source": [
    "Далее приступим к визуализации."
   ]
  },
  {
   "cell_type": "markdown",
   "metadata": {},
   "source": [
    "### 3. Визуализация распределения цен по регионам, наиболее распространненых вендоров."
   ]
  },
  {
   "cell_type": "markdown",
   "metadata": {},
   "source": [
    "#### 3.1 Популярность и распределение вендоров."
   ]
  },
  {
   "cell_type": "markdown",
   "metadata": {},
   "source": [
    "Начнем с популярности вендоров в нашей подвыборке. Создадим переменную с наибойшей распространенностью."
   ]
  },
  {
   "cell_type": "code",
   "execution_count": 25,
   "metadata": {
    "collapsed": false
   },
   "outputs": [
    {
     "data": {
      "text/plain": [
       "PHILIPS    1224\n",
       "BOSCH      1150\n",
       "SAMSUNG    1141\n",
       "SONY        983\n",
       "TESCOMA     961\n",
       "Name: vendor, dtype: int64"
      ]
     },
     "execution_count": 25,
     "metadata": {},
     "output_type": "execute_result"
    }
   ],
   "source": [
    "vendor_counts = df_offers['vendor'].value_counts()\n",
    "vendor_counts.head()"
   ]
  },
  {
   "cell_type": "markdown",
   "metadata": {},
   "source": [
    "Далее построим график распространенности вендоров в нашей выборке"
   ]
  },
  {
   "cell_type": "code",
   "execution_count": 26,
   "metadata": {
    "collapsed": false
   },
   "outputs": [
    {
     "data": {
      "text/plain": [
       "<matplotlib.axes._subplots.AxesSubplot at 0x7f901f8b3c88>"
      ]
     },
     "execution_count": 26,
     "metadata": {},
     "output_type": "execute_result"
    },
    {
     "data": {
      "image/png": "[encoded data removed]",
      "text/plain": [
       "<matplotlib.figure.Figure at 0x7f901f8b3438>"
      ]
     },
     "metadata": {},
     "output_type": "display_data"
    }
   ],
   "source": [
    "fig, ax = plt.subplots()\n",
    "fig.set_size_inches(15, 10)\n",
    "sns.countplot(df_offers['vendor'], order=vendor_counts.index, ax=ax)"
   ]
  },
  {
   "cell_type": "markdown",
   "metadata": {},
   "source": [
    "На представленном выше графике сложно разобрать названия вендоров, т.к. их слишком много. Сократим количество до 50:"
   ]
  },
  {
   "cell_type": "code",
   "execution_count": 27,
   "metadata": {
    "collapsed": false
   },
   "outputs": [
    {
     "data": {
      "image/png": "[encoded data removed]",
      "text/plain": [
       "<matplotlib.figure.Figure at 0x7f901f48b3c8>"
      ]
     },
     "metadata": {},
     "output_type": "display_data"
    }
   ],
   "source": [
    "# show 50 most popular vendors\n",
    "fig, ax = plt.subplots()\n",
    "fig.set_size_inches(15, 10)\n",
    "cols_to_show = vendor_counts[:50].index\n",
    "sns.countplot(df_offers.loc[df_offers['vendor'].isin(cols_to_show), 'vendor'], order=cols_to_show, ax=ax)\n",
    "plt.gcf().autofmt_xdate()"
   ]
  },
  {
   "cell_type": "markdown",
   "metadata": {},
   "source": [
    "Получаем, что самые распространенные вендоры это `Philips`, `Bosch`, `Samsung`. Теперь посмотроим это распределение по регионам для 10 наиболее популярных вендоров."
   ]
  },
  {
   "cell_type": "code",
   "execution_count": 28,
   "metadata": {
    "collapsed": false
   },
   "outputs": [
    {
     "data": {
      "image/png": "[encoded data removed]",
      "text/plain": [
       "<matplotlib.figure.Figure at 0x7f901c62f550>"
      ]
     },
     "metadata": {},
     "output_type": "display_data"
    }
   ],
   "source": [
    "# show 10 most popular vendors per city\n",
    "fig, ax = plt.subplots()\n",
    "fig.set_size_inches(15, 10)\n",
    "cols_to_show = vendor_counts[:10].index\n",
    "sns.countplot(x='vendor', order=cols_to_show, hue='city', data=df_offers.loc[df_offers['vendor'].isin(cols_to_show)], \n",
    "              ax=ax)\n",
    "plt.gcf().autofmt_xdate()"
   ]
  },
  {
   "cell_type": "markdown",
   "metadata": {},
   "source": [
    "Получаем, что вендоры более менее равномерно распространены по регионам за исключением `Tescoma`, которого не представлено в Санкт-Петербурге"
   ]
  },
  {
   "cell_type": "markdown",
   "metadata": {},
   "source": [
    "#### 3.2 Распределение категорий товаров."
   ]
  },
  {
   "cell_type": "markdown",
   "metadata": {},
   "source": [
    "Далее посмотрим наиболее распространенные категории товаров в нашей выборке. Для этого сгруппируем товары по `categoryId`, возьмем размер каждой группы и затем отсортируем по размеру группы."
   ]
  },
  {
   "cell_type": "code",
   "execution_count": 29,
   "metadata": {
    "collapsed": false
   },
   "outputs": [
    {
     "data": {
      "text/html": [
       "<div>\n",
       "<table border=\"1\" class=\"dataframe\">\n",
       "  <thead>\n",
       "    <tr style=\"text-align: right;\">\n",
       "      <th></th>\n",
       "      <th>categoryId</th>\n",
       "      <th>size</th>\n",
       "    </tr>\n",
       "  </thead>\n",
       "  <tbody>\n",
       "    <tr>\n",
       "      <th>319</th>\n",
       "      <td>13190</td>\n",
       "      <td>2732</td>\n",
       "    </tr>\n",
       "    <tr>\n",
       "      <th>71</th>\n",
       "      <td>1147</td>\n",
       "      <td>1653</td>\n",
       "    </tr>\n",
       "    <tr>\n",
       "      <th>323</th>\n",
       "      <td>13196</td>\n",
       "      <td>1633</td>\n",
       "    </tr>\n",
       "    <tr>\n",
       "      <th>235</th>\n",
       "      <td>13023</td>\n",
       "      <td>1421</td>\n",
       "    </tr>\n",
       "    <tr>\n",
       "      <th>505</th>\n",
       "      <td>5602</td>\n",
       "      <td>1342</td>\n",
       "    </tr>\n",
       "  </tbody>\n",
       "</table>\n",
       "</div>"
      ],
      "text/plain": [
       "    categoryId  size\n",
       "319      13190  2732\n",
       "71        1147  1653\n",
       "323      13196  1633\n",
       "235      13023  1421\n",
       "505       5602  1342"
      ]
     },
     "execution_count": 29,
     "metadata": {},
     "output_type": "execute_result"
    }
   ],
   "source": [
    "# Analyze categories\n",
    "df_category_size = df_offers.groupby('categoryId').size().reset_index()\n",
    "df_category_size.columns = ['categoryId', 'size']\n",
    "df_category_size = df_category_size.sort_values(by='size', ascending=False)\n",
    "df_category_size.head()"
   ]
  },
  {
   "cell_type": "markdown",
   "metadata": {},
   "source": [
    "Для получения осмысленных имен категорий склеим наши `DataFrames` для категорий и полученного выше."
   ]
  },
  {
   "cell_type": "code",
   "execution_count": 30,
   "metadata": {
    "collapsed": false
   },
   "outputs": [
    {
     "data": {
      "text/html": [
       "<div>\n",
       "<table border=\"1\" class=\"dataframe\">\n",
       "  <thead>\n",
       "    <tr style=\"text-align: right;\">\n",
       "      <th></th>\n",
       "      <th>categoryId</th>\n",
       "      <th>size</th>\n",
       "      <th>category</th>\n",
       "    </tr>\n",
       "  </thead>\n",
       "  <tbody>\n",
       "    <tr>\n",
       "      <th>0</th>\n",
       "      <td>13190</td>\n",
       "      <td>2732</td>\n",
       "      <td>Средства по уходу</td>\n",
       "    </tr>\n",
       "    <tr>\n",
       "      <th>1</th>\n",
       "      <td>1147</td>\n",
       "      <td>1653</td>\n",
       "      <td>Наушники и гарнитуры</td>\n",
       "    </tr>\n",
       "    <tr>\n",
       "      <th>2</th>\n",
       "      <td>13196</td>\n",
       "      <td>1633</td>\n",
       "      <td>Средства по уходу за волосами</td>\n",
       "    </tr>\n",
       "    <tr>\n",
       "      <th>3</th>\n",
       "      <td>13023</td>\n",
       "      <td>1421</td>\n",
       "      <td>Конструкторы</td>\n",
       "    </tr>\n",
       "    <tr>\n",
       "      <th>4</th>\n",
       "      <td>5602</td>\n",
       "      <td>1342</td>\n",
       "      <td>Вытяжки</td>\n",
       "    </tr>\n",
       "  </tbody>\n",
       "</table>\n",
       "</div>"
      ],
      "text/plain": [
       "  categoryId  size                       category\n",
       "0      13190  2732              Средства по уходу\n",
       "1       1147  1653           Наушники и гарнитуры\n",
       "2      13196  1633  Средства по уходу за волосами\n",
       "3      13023  1421                   Конструкторы\n",
       "4       5602  1342                        Вытяжки"
      ]
     },
     "execution_count": 30,
     "metadata": {},
     "output_type": "execute_result"
    }
   ],
   "source": [
    "df_category_size_names = pd.merge(df_category_size, df_cats, left_on='categoryId', right_on='id', how='left')\n",
    "df_category_size_names = df_category_size_names[['categoryId', 'size', 'category']]\n",
    "df_category_size_names = df_category_size_names.sort_values(by='size', ascending=False)\n",
    "df_category_size_names.head()"
   ]
  },
  {
   "cell_type": "markdown",
   "metadata": {},
   "source": [
    "Построим распределение по 20 наиболее популярным категориям, для разнообразия построим с помощью `pandas.DataFrame.plot`."
   ]
  },
  {
   "cell_type": "code",
   "execution_count": 31,
   "metadata": {
    "collapsed": false
   },
   "outputs": [
    {
     "data": {
      "image/png": "[encoded data removed]",
      "text/plain": [
       "<matplotlib.figure.Figure at 0x7f901bb44438>"
      ]
     },
     "metadata": {},
     "output_type": "display_data"
    }
   ],
   "source": [
    "fig, ax = plt.subplots()\n",
    "fig.set_size_inches(15, 10)\n",
    "cmap=plt.get_cmap(\"brg\")\n",
    "N = 20\n",
    "colors = [cmap(i/N) for i in range(N)]\n",
    "df_category_size_names[:N].plot(x='category', y='size', kind='bar', ax=ax, color=colors)\n",
    "plt.gcf().autofmt_xdate()"
   ]
  },
  {
   "cell_type": "markdown",
   "metadata": {},
   "source": [
    "#### 3.3 Анализ категорий по переменной `typePrefix`"
   ]
  },
  {
   "cell_type": "markdown",
   "metadata": {},
   "source": [
    "Теперь проанализируем категории для переменной `typePrefix`:"
   ]
  },
  {
   "cell_type": "code",
   "execution_count": 32,
   "metadata": {
    "collapsed": false
   },
   "outputs": [
    {
     "data": {
      "text/plain": [
       "Конструктор              1297\n",
       "Вытяжка                  1022\n",
       "Холодильник               971\n",
       "Смартфон                  901\n",
       "Наушники с микрофоном     850\n",
       "Name: typePrefix, dtype: int64"
      ]
     },
     "execution_count": 32,
     "metadata": {},
     "output_type": "execute_result"
    }
   ],
   "source": [
    "df_typePrefix_counts = df_offers['typePrefix'].value_counts()\n",
    "df_typePrefix_counts.head()"
   ]
  },
  {
   "cell_type": "code",
   "execution_count": 33,
   "metadata": {
    "collapsed": false
   },
   "outputs": [
    {
     "data": {
      "image/png": "[encoded data removed]",
      "text/plain": [
       "<matplotlib.figure.Figure at 0x7f901c7be2b0>"
      ]
     },
     "metadata": {},
     "output_type": "display_data"
    }
   ],
   "source": [
    "cmap=plt.get_cmap(\"winter\")\n",
    "N = 20\n",
    "colors = [cmap(i/N) for i in range(N)]\n",
    "df_typePrefix_counts[:N].plot(kind='bar', color=colors, figsize=(15,10))\n",
    "plt.gcf().autofmt_xdate()"
   ]
  },
  {
   "cell_type": "code",
   "execution_count": 34,
   "metadata": {
    "collapsed": false
   },
   "outputs": [
    {
     "data": {
      "image/png": "[encoded data removed]",
      "text/plain": [
       "<matplotlib.figure.Figure at 0x7f901bba9b00>"
      ]
     },
     "metadata": {},
     "output_type": "display_data"
    }
   ],
   "source": [
    "# show 10 most popular type Prefix per city\n",
    "fig, ax = plt.subplots()\n",
    "fig.set_size_inches(15, 10)\n",
    "cols_to_show = df_typePrefix_counts[:10].index\n",
    "sns.countplot(x='typePrefix', order=cols_to_show, hue='city', \n",
    "              data=df_offers.loc[df_offers['typePrefix'].isin(cols_to_show)], ax=ax)\n",
    "plt.gcf().autofmt_xdate()"
   ]
  },
  {
   "cell_type": "markdown",
   "metadata": {},
   "source": [
    "#### 3.4 Анализ цен и доступности товаров в зависимости от регионов."
   ]
  },
  {
   "cell_type": "markdown",
   "metadata": {},
   "source": [
    "Теперь проанализируем как цены на одни и те же товары связаны с регионом. Выделим `DataFrame` для каждого региона:"
   ]
  },
  {
   "cell_type": "code",
   "execution_count": 35,
   "metadata": {
    "collapsed": true
   },
   "outputs": [],
   "source": [
    "# Now let's split DataFrame for 3 for each city. \n",
    "cols_to_stay = ['url', 'price', 'available', 'typePrefix']\n",
    "df_mos = df_offers.loc[df_offers['city'] == 'Moskva', cols_to_stay]\n",
    "df_nov = df_offers.loc[df_offers['city'] == 'Novosibirskaya_oblast__Novosibirsk', cols_to_stay]\n",
    "df_spb = df_offers.loc[df_offers['city'] == 'Sankt-Peterburg', cols_to_stay]"
   ]
  },
  {
   "cell_type": "code",
   "execution_count": 36,
   "metadata": {
    "collapsed": false
   },
   "outputs": [],
   "source": [
    "# rename prices columns according to cities\n",
    "df_mos.columns = [col + '_mos' for col in df_mos.columns]\n",
    "df_spb.columns = [col + '_spb' for col in df_spb.columns]\n",
    "df_nov.columns = [col + '_nov' for col in df_nov.columns]"
   ]
  },
  {
   "cell_type": "markdown",
   "metadata": {},
   "source": [
    "Далее объединим полученные `DataFrames` для одних товаров с помощью `url`, как показателя одного и того же товара."
   ]
  },
  {
   "cell_type": "code",
   "execution_count": 37,
   "metadata": {
    "collapsed": false
   },
   "outputs": [],
   "source": [
    "# merge three DataFrames\n",
    "df_merge = (df_mos.merge(df_spb, left_on='url_mos', right_on='url_spb').\n",
    "    merge(df_nov, left_on='url_mos', right_on='url_nov'))\n",
    "# replace true and false to True and False\n",
    "df_merge = df_merge.replace({'true': True, 'false':False})"
   ]
  },
  {
   "cell_type": "code",
   "execution_count": 38,
   "metadata": {
    "collapsed": false
   },
   "outputs": [],
   "source": [
    "# drop url after merging\n",
    "df_merge = df_merge.drop(df_merge.columns[df_merge.columns.str.contains('url')], axis=1)\n",
    "df_merge = df_merge.drop(['typePrefix_spb', 'typePrefix_nov'], axis=1)\n",
    "df_merge = df_merge.rename(columns={'typePrefix_mos':'typePrefix'})"
   ]
  },
  {
   "cell_type": "markdown",
   "metadata": {},
   "source": [
    "Сконвертируем тип колонок `price` к `float` и посмотрим первые строки получившегося `DataFrame`."
   ]
  },
  {
   "cell_type": "code",
   "execution_count": 39,
   "metadata": {
    "collapsed": false
   },
   "outputs": [
    {
     "data": {
      "text/html": [
       "<div>\n",
       "<table border=\"1\" class=\"dataframe\">\n",
       "  <thead>\n",
       "    <tr style=\"text-align: right;\">\n",
       "      <th></th>\n",
       "      <th>price_mos</th>\n",
       "      <th>available_mos</th>\n",
       "      <th>typePrefix</th>\n",
       "      <th>price_spb</th>\n",
       "      <th>available_spb</th>\n",
       "      <th>price_nov</th>\n",
       "      <th>available_nov</th>\n",
       "    </tr>\n",
       "  </thead>\n",
       "  <tbody>\n",
       "    <tr>\n",
       "      <th>0</th>\n",
       "      <td>840.0</td>\n",
       "      <td>True</td>\n",
       "      <td>Установочный Набор</td>\n",
       "      <td>840.0</td>\n",
       "      <td>True</td>\n",
       "      <td>840.0</td>\n",
       "      <td>True</td>\n",
       "    </tr>\n",
       "    <tr>\n",
       "      <th>1</th>\n",
       "      <td>1999.0</td>\n",
       "      <td>True</td>\n",
       "      <td>Установочный Набор</td>\n",
       "      <td>1099.0</td>\n",
       "      <td>True</td>\n",
       "      <td>1550.0</td>\n",
       "      <td>True</td>\n",
       "    </tr>\n",
       "    <tr>\n",
       "      <th>2</th>\n",
       "      <td>380.0</td>\n",
       "      <td>True</td>\n",
       "      <td>Rca Кабель</td>\n",
       "      <td>449.0</td>\n",
       "      <td>True</td>\n",
       "      <td>449.0</td>\n",
       "      <td>True</td>\n",
       "    </tr>\n",
       "    <tr>\n",
       "      <th>3</th>\n",
       "      <td>1699.0</td>\n",
       "      <td>True</td>\n",
       "      <td>Конденсатор</td>\n",
       "      <td>1699.0</td>\n",
       "      <td>True</td>\n",
       "      <td>1699.0</td>\n",
       "      <td>True</td>\n",
       "    </tr>\n",
       "    <tr>\n",
       "      <th>4</th>\n",
       "      <td>950.0</td>\n",
       "      <td>True</td>\n",
       "      <td>Телефон</td>\n",
       "      <td>950.0</td>\n",
       "      <td>True</td>\n",
       "      <td>950.0</td>\n",
       "      <td>True</td>\n",
       "    </tr>\n",
       "  </tbody>\n",
       "</table>\n",
       "</div>"
      ],
      "text/plain": [
       "   price_mos available_mos          typePrefix  price_spb available_spb  \\\n",
       "0      840.0          True  Установочный Набор      840.0          True   \n",
       "1     1999.0          True  Установочный Набор     1099.0          True   \n",
       "2      380.0          True          Rca Кабель      449.0          True   \n",
       "3     1699.0          True         Конденсатор     1699.0          True   \n",
       "4      950.0          True             Телефон      950.0          True   \n",
       "\n",
       "   price_nov available_nov  \n",
       "0      840.0          True  \n",
       "1     1550.0          True  \n",
       "2      449.0          True  \n",
       "3     1699.0          True  \n",
       "4      950.0          True  "
      ]
     },
     "execution_count": 39,
     "metadata": {},
     "output_type": "execute_result"
    }
   ],
   "source": [
    "price_mask = df_merge.columns.str.contains('price')\n",
    "df_merge.loc[:, price_mask] = df_merge.loc[:, price_mask].astype(float)\n",
    "df_merge.head()"
   ]
  },
  {
   "cell_type": "markdown",
   "metadata": {},
   "source": [
    "Проверим, что для каждой позиции цена ненулевая:"
   ]
  },
  {
   "cell_type": "code",
   "execution_count": 40,
   "metadata": {
    "collapsed": false
   },
   "outputs": [
    {
     "data": {
      "text/plain": [
       "True"
      ]
     },
     "execution_count": 40,
     "metadata": {},
     "output_type": "execute_result"
    }
   ],
   "source": [
    "# check that every price per item is not null\n",
    "price_cols = ['price_mos', 'price_nov', 'price_spb']\n",
    "(df_merge[price_cols] != 0).all(axis=1).all()"
   ]
  },
  {
   "cell_type": "markdown",
   "metadata": {},
   "source": [
    "Создадим колонки для разностей цен"
   ]
  },
  {
   "cell_type": "code",
   "execution_count": 41,
   "metadata": {
    "collapsed": false
   },
   "outputs": [],
   "source": [
    "df_merge['diff_mos_nov'] = (df_merge['price_mos'] - df_merge['price_nov'])\n",
    "df_merge['diff_mos_spb'] = (df_merge['price_mos'] - df_merge['price_spb'])\n",
    "df_merge['diff_spb_nov'] = (df_merge['price_spb'] - df_merge['price_nov'])\n",
    "diff_cols = ['diff_mos_nov', 'diff_mos_spb', 'diff_spb_nov']"
   ]
  },
  {
   "cell_type": "markdown",
   "metadata": {},
   "source": [
    "Построим график разностей цен."
   ]
  },
  {
   "cell_type": "code",
   "execution_count": 42,
   "metadata": {
    "collapsed": false
   },
   "outputs": [
    {
     "data": {
      "text/plain": [
       "array([<matplotlib.axes._subplots.AxesSubplot object at 0x7f901bcb3e10>,\n",
       "       <matplotlib.axes._subplots.AxesSubplot object at 0x7f901bdbb6a0>,\n",
       "       <matplotlib.axes._subplots.AxesSubplot object at 0x7f9019584940>], dtype=object)"
      ]
     },
     "execution_count": 42,
     "metadata": {},
     "output_type": "execute_result"
    },
    {
     "data": {
      "image/png": "[encoded data removed]",
      "text/plain": [
       "<matplotlib.figure.Figure at 0x7f901bc75b70>"
      ]
     },
     "metadata": {},
     "output_type": "display_data"
    }
   ],
   "source": [
    "df_merge.plot(y=diff_cols, subplots=True, figsize=(15,10))"
   ]
  },
  {
   "cell_type": "markdown",
   "metadata": {},
   "source": [
    "Посмотрим суммарное отличие в ценах."
   ]
  },
  {
   "cell_type": "code",
   "execution_count": 43,
   "metadata": {
    "collapsed": false
   },
   "outputs": [
    {
     "data": {
      "text/plain": [
       "diff_mos_nov   -2166847.0\n",
       "diff_mos_spb      73613.0\n",
       "diff_spb_nov   -2240460.0\n",
       "dtype: float64"
      ]
     },
     "execution_count": 43,
     "metadata": {},
     "output_type": "execute_result"
    }
   ],
   "source": [
    "# overall sum price differencies\n",
    "df_merge[diff_cols].sum()"
   ]
  },
  {
   "cell_type": "markdown",
   "metadata": {},
   "source": [
    "Посмотрим на товары, которые наиболее отличаются по ценам."
   ]
  },
  {
   "cell_type": "code",
   "execution_count": 44,
   "metadata": {
    "collapsed": false
   },
   "outputs": [
    {
     "data": {
      "text/html": [
       "<div>\n",
       "<table border=\"1\" class=\"dataframe\">\n",
       "  <thead>\n",
       "    <tr style=\"text-align: right;\">\n",
       "      <th></th>\n",
       "      <th>price_mos</th>\n",
       "      <th>available_mos</th>\n",
       "      <th>typePrefix</th>\n",
       "      <th>price_spb</th>\n",
       "      <th>available_spb</th>\n",
       "      <th>price_nov</th>\n",
       "      <th>available_nov</th>\n",
       "      <th>diff_mos_nov</th>\n",
       "      <th>diff_mos_spb</th>\n",
       "      <th>diff_spb_nov</th>\n",
       "    </tr>\n",
       "  </thead>\n",
       "  <tbody>\n",
       "    <tr>\n",
       "      <th>2198</th>\n",
       "      <td>153200.0</td>\n",
       "      <td>False</td>\n",
       "      <td>ИБП</td>\n",
       "      <td>149950.0</td>\n",
       "      <td>False</td>\n",
       "      <td>214499.0</td>\n",
       "      <td>False</td>\n",
       "      <td>-61299.0</td>\n",
       "      <td>3250.0</td>\n",
       "      <td>-64549.0</td>\n",
       "    </tr>\n",
       "    <tr>\n",
       "      <th>2197</th>\n",
       "      <td>104360.0</td>\n",
       "      <td>False</td>\n",
       "      <td>ИБП</td>\n",
       "      <td>104340.0</td>\n",
       "      <td>False</td>\n",
       "      <td>165999.0</td>\n",
       "      <td>False</td>\n",
       "      <td>-61639.0</td>\n",
       "      <td>20.0</td>\n",
       "      <td>-61659.0</td>\n",
       "    </tr>\n",
       "    <tr>\n",
       "      <th>2199</th>\n",
       "      <td>109890.0</td>\n",
       "      <td>True</td>\n",
       "      <td>ИБП</td>\n",
       "      <td>109540.0</td>\n",
       "      <td>True</td>\n",
       "      <td>150499.0</td>\n",
       "      <td>False</td>\n",
       "      <td>-40609.0</td>\n",
       "      <td>350.0</td>\n",
       "      <td>-40959.0</td>\n",
       "    </tr>\n",
       "    <tr>\n",
       "      <th>7704</th>\n",
       "      <td>72999.0</td>\n",
       "      <td>True</td>\n",
       "      <td>Кофемашина</td>\n",
       "      <td>81579.0</td>\n",
       "      <td>True</td>\n",
       "      <td>110499.0</td>\n",
       "      <td>True</td>\n",
       "      <td>-37500.0</td>\n",
       "      <td>-8580.0</td>\n",
       "      <td>-28920.0</td>\n",
       "    </tr>\n",
       "    <tr>\n",
       "      <th>2186</th>\n",
       "      <td>81380.0</td>\n",
       "      <td>False</td>\n",
       "      <td>Батарея для ИБП</td>\n",
       "      <td>83010.0</td>\n",
       "      <td>False</td>\n",
       "      <td>115499.0</td>\n",
       "      <td>False</td>\n",
       "      <td>-34119.0</td>\n",
       "      <td>-1630.0</td>\n",
       "      <td>-32489.0</td>\n",
       "    </tr>\n",
       "    <tr>\n",
       "      <th>6801</th>\n",
       "      <td>85619.0</td>\n",
       "      <td>True</td>\n",
       "      <td>Сушильная машина</td>\n",
       "      <td>116489.0</td>\n",
       "      <td>False</td>\n",
       "      <td>85619.0</td>\n",
       "      <td>True</td>\n",
       "      <td>0.0</td>\n",
       "      <td>-30870.0</td>\n",
       "      <td>30870.0</td>\n",
       "    </tr>\n",
       "    <tr>\n",
       "      <th>1735</th>\n",
       "      <td>89299.0</td>\n",
       "      <td>True</td>\n",
       "      <td>Кофемашина</td>\n",
       "      <td>89299.0</td>\n",
       "      <td>True</td>\n",
       "      <td>61999.0</td>\n",
       "      <td>True</td>\n",
       "      <td>27300.0</td>\n",
       "      <td>0.0</td>\n",
       "      <td>27300.0</td>\n",
       "    </tr>\n",
       "    <tr>\n",
       "      <th>2189</th>\n",
       "      <td>26170.0</td>\n",
       "      <td>False</td>\n",
       "      <td>Батарея для ИБП</td>\n",
       "      <td>26170.0</td>\n",
       "      <td>False</td>\n",
       "      <td>52499.0</td>\n",
       "      <td>False</td>\n",
       "      <td>-26329.0</td>\n",
       "      <td>0.0</td>\n",
       "      <td>-26329.0</td>\n",
       "    </tr>\n",
       "    <tr>\n",
       "      <th>15784</th>\n",
       "      <td>51289.0</td>\n",
       "      <td>True</td>\n",
       "      <td>Встраиваемый холодильник</td>\n",
       "      <td>74999.0</td>\n",
       "      <td>False</td>\n",
       "      <td>76499.0</td>\n",
       "      <td>True</td>\n",
       "      <td>-25210.0</td>\n",
       "      <td>-23710.0</td>\n",
       "      <td>-1500.0</td>\n",
       "    </tr>\n",
       "    <tr>\n",
       "      <th>10346</th>\n",
       "      <td>56089.0</td>\n",
       "      <td>True</td>\n",
       "      <td>Индукционная варочная панель</td>\n",
       "      <td>56129.0</td>\n",
       "      <td>False</td>\n",
       "      <td>78999.0</td>\n",
       "      <td>True</td>\n",
       "      <td>-22910.0</td>\n",
       "      <td>-40.0</td>\n",
       "      <td>-22870.0</td>\n",
       "    </tr>\n",
       "  </tbody>\n",
       "</table>\n",
       "</div>"
      ],
      "text/plain": [
       "       price_mos available_mos                    typePrefix  price_spb  \\\n",
       "2198    153200.0         False                           ИБП   149950.0   \n",
       "2197    104360.0         False                           ИБП   104340.0   \n",
       "2199    109890.0          True                           ИБП   109540.0   \n",
       "7704     72999.0          True                    Кофемашина    81579.0   \n",
       "2186     81380.0         False               Батарея для ИБП    83010.0   \n",
       "6801     85619.0          True              Сушильная машина   116489.0   \n",
       "1735     89299.0          True                    Кофемашина    89299.0   \n",
       "2189     26170.0         False               Батарея для ИБП    26170.0   \n",
       "15784    51289.0          True      Встраиваемый холодильник    74999.0   \n",
       "10346    56089.0          True  Индукционная варочная панель    56129.0   \n",
       "\n",
       "      available_spb  price_nov available_nov  diff_mos_nov  diff_mos_spb  \\\n",
       "2198          False   214499.0         False      -61299.0        3250.0   \n",
       "2197          False   165999.0         False      -61639.0          20.0   \n",
       "2199           True   150499.0         False      -40609.0         350.0   \n",
       "7704           True   110499.0          True      -37500.0       -8580.0   \n",
       "2186          False   115499.0         False      -34119.0       -1630.0   \n",
       "6801          False    85619.0          True           0.0      -30870.0   \n",
       "1735           True    61999.0          True       27300.0           0.0   \n",
       "2189          False    52499.0         False      -26329.0           0.0   \n",
       "15784         False    76499.0          True      -25210.0      -23710.0   \n",
       "10346         False    78999.0          True      -22910.0         -40.0   \n",
       "\n",
       "       diff_spb_nov  \n",
       "2198       -64549.0  \n",
       "2197       -61659.0  \n",
       "2199       -40959.0  \n",
       "7704       -28920.0  \n",
       "2186       -32489.0  \n",
       "6801        30870.0  \n",
       "1735        27300.0  \n",
       "2189       -26329.0  \n",
       "15784       -1500.0  \n",
       "10346      -22870.0  "
      ]
     },
     "execution_count": 44,
     "metadata": {},
     "output_type": "execute_result"
    }
   ],
   "source": [
    "N = 10\n",
    "n_largest_idx = (df_merge[price_cols].max(axis=1) - df_merge[price_cols].min(axis=1)).nlargest(N).index\n",
    "df_merge.loc[n_largest_idx]"
   ]
  },
  {
   "cell_type": "markdown",
   "metadata": {},
   "source": [
    "Теперь проанализируем наличие товаров в различных городах"
   ]
  },
  {
   "cell_type": "code",
   "execution_count": 45,
   "metadata": {
    "collapsed": false
   },
   "outputs": [
    {
     "data": {
      "text/html": [
       "<div>\n",
       "<table border=\"1\" class=\"dataframe\">\n",
       "  <thead>\n",
       "    <tr style=\"text-align: right;\">\n",
       "      <th></th>\n",
       "      <th>available_mos</th>\n",
       "      <th>available_spb</th>\n",
       "      <th>available_nov</th>\n",
       "    </tr>\n",
       "  </thead>\n",
       "  <tbody>\n",
       "    <tr>\n",
       "      <th>True</th>\n",
       "      <td>19400</td>\n",
       "      <td>16686</td>\n",
       "      <td>12772</td>\n",
       "    </tr>\n",
       "    <tr>\n",
       "      <th>False</th>\n",
       "      <td>610</td>\n",
       "      <td>3324</td>\n",
       "      <td>7238</td>\n",
       "    </tr>\n",
       "  </tbody>\n",
       "</table>\n",
       "</div>"
      ],
      "text/plain": [
       "       available_mos  available_spb  available_nov\n",
       "True           19400          16686          12772\n",
       "False            610           3324           7238"
      ]
     },
     "execution_count": 45,
     "metadata": {},
     "output_type": "execute_result"
    }
   ],
   "source": [
    "avail_cols = df_merge.columns[df_merge.columns.str.contains('avail')]\n",
    "df_merge[avail_cols].apply(lambda x: x.value_counts())"
   ]
  },
  {
   "cell_type": "markdown",
   "metadata": {},
   "source": [
    "### 4. Краткие выводы"
   ]
  },
  {
   "cell_type": "markdown",
   "metadata": {},
   "source": [
    "- Проанализировав полученные данные получаем, что наиболее популярными вендорами в магазине Эльдорадо являются PHILIPS, BOSCH, SAMSUNG, SONY. \n",
    "- Цены на товары, как это не странно, больше всего в Новосибирске. Возможно это какие выбросы в данных. Исходя из 10 наиболее различающихся товаров, в Новосибирске ИБП (на основании `typePrefix`) значительно дороже чем в Москве и Санкт-Петербурге.\n",
    "- Наиболее популярные категории товаров на основании переменной `typePrefix`: Конструктор, Вытяжка, Холодильник, Смартфон, Наушники с микрофоном. \n",
    "- Наиболее популярные категории товаров: Средства по уходу, Наушники и гарнитуры, Средства по уходу за волосами, Конструкторы, Вытяжки.\n",
    "- Наличие товаров больше в Москве. В Новосибирске отсутствует чуть более трети."
   ]
  }
 ],
 "metadata": {
  "kernelspec": {
   "display_name": "Python 3",
   "language": "python",
   "name": "python3"
  },
  "language_info": {
   "codemirror_mode": {
    "name": "ipython",
    "version": 3
   },
   "file_extension": ".py",
   "mimetype": "text/x-python",
   "name": "python",
   "nbconvert_exporter": "python",
   "pygments_lexer": "ipython3",
   "version": "3.5.2"
  }
 },
 "nbformat": 4,
 "nbformat_minor": 0
}
